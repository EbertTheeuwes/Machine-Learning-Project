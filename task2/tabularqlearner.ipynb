{
 "cells": [
  {
   "cell_type": "code",
   "execution_count": 1,
   "metadata": {},
   "outputs": [
    {
     "name": "stdout",
     "output_type": "stream",
     "text": [
      "\n",
      "bots()\n",
      "Episodes: 0\n",
      "Episodes: 1000\n",
      "Episodes: 2000\n",
      "Episodes: 3000\n",
      "Episodes: 4000\n",
      "Episodes: 5000\n",
      "Episodes: 6000\n",
      "Episodes: 7000\n",
      "Episodes: 8000\n",
      "Episodes: 9000\n",
      "Episodes: 10000\n",
      "Episodes: 11000\n",
      "Episodes: 12000\n",
      "Episodes: 13000\n",
      "Episodes: 14000\n",
      "Episodes: 15000\n",
      "Episodes: 16000\n",
      "Episodes: 17000\n",
      "Episodes: 18000\n",
      "Episodes: 19000\n",
      "Done!\n"
     ]
    }
   ],
   "source": [
    "import pyspiel\n",
    "import numpy as np\n",
    "import matplotlib.pyplot as plt\n",
    "from open_spiel.python.egt import dynamics\n",
    "from open_spiel.python.egt.utils import game_payoffs_array\n",
    "from open_spiel.python import rl_environment\n",
    "from open_spiel.python import rl_tools\n",
    "from open_spiel.python.algorithms import tabular_qlearner, boltzmann_tabular_qlearner\n",
    "print(\"\")\n",
    "\n",
    "# Define games\n",
    "biased_rock_paper_scissors = pyspiel.create_matrix_game(\"brps\", \"biased_rock_paper_scissors\", [\"R\", \"P\", \"S\"], [\"R\", \"P\", \"S\"], [[0, -0.25, 0.5], [0.25, 0, -0.05], [-0.5, 0.05, 0]], [[0, 0.25, -0.5], [-0.25, 0, 0.05], [0.5, -0.05, 0]])\n",
    "dispersion = pyspiel.create_matrix_game(\"d\", \"dispersion\", [\"A\", \"B\"], [\"A\", \"B\"], [[-1, 1], [1, -1]], [[-1, 1], [1, -1]])\n",
    "battle_of_the_sexes = pyspiel.create_matrix_game(\"bots\", \"battle_of_the_sexes\", [\"O\", \"M\"], [\"O\", \"M\"], [[3, 0], [0, 2]], [[2, 0], [0, 3]])\n",
    "prisoner_dilemma = pyspiel.create_matrix_game(\"pd\", \"prisoner_dilemma\", [\"C\", \"D\"], [\"C\", \"D\"], [[-1, -4], [0, -3]], [[-1, 0], [-4, -3]])\n",
    "\n",
    "# Choose game\n",
    "game = battle_of_the_sexes\n",
    "print(game)\n",
    "payoff_matrix = game_payoffs_array(game)\n",
    "\n",
    "\n",
    "# Create the environment\n",
    "env = rl_environment.Environment(game)\n",
    "num_players = env.num_players\n",
    "num_actions = env.action_spec()[\"num_actions\"]\n",
    "episodes=20000\n",
    "\n",
    "# Create the agents\n",
    "agents = [\n",
    "    tabular_qlearner.QLearner(player_id=idx, num_actions=num_actions)\n",
    "    for idx in range(num_players)\n",
    "]\n",
    "traj1=np.empty(episodes)\n",
    "traj2=np.empty(episodes)\n",
    "for cur_episode in range(episodes):\n",
    "  if cur_episode % 1000 == 0:\n",
    "    print(f\"Episodes: {cur_episode}\")\n",
    "  time_step = env.reset()\n",
    "  while not time_step.last():\n",
    "    info_state1 = str(time_step.observations[\"info_state\"][agents[0]._player_id])\n",
    "    legal_actions1 = time_step.observations[\"legal_actions\"][agents[0]._player_id]\n",
    "    info_state2 = str(time_step.observations[\"info_state\"][agents[1]._player_id])\n",
    "    legal_actions2 = time_step.observations[\"legal_actions\"][agents[1]._player_id]\n",
    "    traj1[cur_episode],traj2[cur_episode]=agents[0]._get_action_probs(info_state1,legal_actions1,0.1)[1][0],agents[1]._get_action_probs(info_state2,legal_actions2,0.1)[1][0]\n",
    "    agent1_output = agents[0].step(time_step)\n",
    "    agent2_output = agents[1].step(time_step)\n",
    "    time_step = env.step([agent1_output.action,agent2_output.action])\n",
    "  # Episode is over, step all agents with final info state.\n",
    "  for agent in agents:\n",
    "    agent.step(time_step)\n",
    "print(\"Done!\")\n",
    "\n",
    "\n"
   ]
  },
  {
   "cell_type": "code",
   "execution_count": null,
   "metadata": {},
   "outputs": [],
   "source": [
    "time_step = env.reset()\n",
    "info_state = str(time_step.observations[\"info_state\"][agents[0]._player_id])\n",
    "legal_actions = time_step.observations[\"legal_actions\"][agents[0]._player_id]\n",
    "print(agents[0]._get_action_probs(info_state,legal_actions,0.1))\n",
    "fig, ax = plt.subplots()\n",
    "ax.plot(traj1,traj2)\n",
    "plt.show()"
   ]
  }
 ],
 "metadata": {
  "kernelspec": {
   "display_name": "Python 3",
   "language": "python",
   "name": "python3"
  },
  "language_info": {
   "codemirror_mode": {
    "name": "ipython",
    "version": 3
   },
   "file_extension": ".py",
   "mimetype": "text/x-python",
   "name": "python",
   "nbconvert_exporter": "python",
   "pygments_lexer": "ipython3",
   "version": "3.10.6"
  },
  "orig_nbformat": 4
 },
 "nbformat": 4,
 "nbformat_minor": 2
}
